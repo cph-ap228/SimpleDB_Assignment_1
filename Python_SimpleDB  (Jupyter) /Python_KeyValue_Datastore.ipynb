{
 "cells": [
  {
   "cell_type": "code",
   "execution_count": 92,
   "metadata": {},
   "outputs": [],
   "source": [
    "# SimpleDB using Dictionary, list and key:values \n",
    "# For this we only use a json import to read and write to/from file, \n",
    "# and Python's own Dictionary object. \n",
    "import json\n",
    "\n",
    "# We define our dictionary \"{}\" and list \"[]\" and populate them. \n",
    "datastore = { \"office\": {\n",
    "    \"medical\": [\n",
    "      { \"room-number\": 100,\n",
    "        \"use\": \"reception\",\n",
    "        \"sq-ft\": 50,\n",
    "        \"price\": 75\n",
    "      },\n",
    "      { \"room-number\": 101,\n",
    "        \"use\": \"waiting\",\n",
    "        \"sq-ft\": 250,\n",
    "        \"price\": 75\n",
    "      },\n",
    "      { \"room-number\": 102,\n",
    "        \"use\": \"office\",\n",
    "        \"sq-ft\": 125,\n",
    "        \"price\": 150\n",
    "      },\n",
    "      { \"room-number\": 103,\n",
    "        \"use\": \"examination\",\n",
    "        \"sq-ft\": 125,\n",
    "        \"price\": 150\n",
    "      },\n",
    "      { \"room-number\": 104,\n",
    "        \"use\": \"office\",\n",
    "        \"sq-ft\": 150,\n",
    "        \"price\": 100\n",
    "      }\n",
    "    ],\n",
    "    \"parking\": {\n",
    "      \"location\": \"premium\",\n",
    "      \"style\": \"covered\",\n",
    "      \"price\": 750\n",
    "    }\n",
    "  }\n",
    "}"
   ]
  },
  {
   "cell_type": "code",
   "execution_count": 97,
   "metadata": {},
   "outputs": [
    {
     "name": "stdout",
     "output_type": "stream",
     "text": [
      "{'location': 'premium', 'style': 'covered', 'price': 750}\n"
     ]
    }
   ],
   "source": [
    "# Accessing and printing data from a specific dictionary object can be done, \n",
    "# like with \"parking\"\n",
    "print(datastore[\"office\"][\"parking\"])"
   ]
  },
  {
   "cell_type": "code",
   "execution_count": 100,
   "metadata": {},
   "outputs": [
    {
     "name": "stdout",
     "output_type": "stream",
     "text": [
      "{'room-number': 101, 'use': 'waiting', 'sq-ft': 250, 'price': 75}\n"
     ]
    }
   ],
   "source": [
    "# Knowing that the value for \"medical\" is a list. \n",
    "# We can then use index numbers ie. \"[2]\" to access specific room-data, \n",
    "# based on our entries.\n",
    "\n",
    "print(datastore[\"office\"][\"medical\"][1])"
   ]
  },
  {
   "cell_type": "code",
   "execution_count": 103,
   "metadata": {},
   "outputs": [],
   "source": [
    "# Assigning a portion of the datastore to a variable to efficiently address it. \n",
    "spaces = datastore['office']['medical']"
   ]
  },
  {
   "cell_type": "code",
   "execution_count": 104,
   "metadata": {},
   "outputs": [
    {
     "name": "stdout",
     "output_type": "stream",
     "text": [
      "The examination room now costs 250€\n"
     ]
    }
   ],
   "source": [
    "# Here is a method to find and change a value in the database.\n",
    "for item in spaces:\n",
    "    if item.get('use') == \"examination\" :\n",
    "       item['price'] = ('250€')\n",
    "\n",
    "# Finding the entry and printing new value, new change of 'price' is now stored in the DB.\n",
    "for item in datastore['office']['medical']: \n",
    "    if item.get('use') == \"examination\" :\n",
    "        print('The {} room now costs {}'.format(item.get('use'), item.get('price')))"
   ]
  },
  {
   "cell_type": "code",
   "execution_count": 90,
   "metadata": {},
   "outputs": [],
   "source": [
    "# Creating a file and dumping all data. \n",
    "with open(\"medicaloffice.json\",\"w\") as f:\n",
    "    json.dump(my_data,f)\n",
    "f.close()"
   ]
  },
  {
   "cell_type": "code",
   "execution_count": 91,
   "metadata": {},
   "outputs": [
    {
     "name": "stdout",
     "output_type": "stream",
     "text": [
      "[{'office': {'medical': [{'room-number': 100, 'use': 'reception', 'sq-ft': 50, 'price': 75}, {'room-number': 101, 'use': 'waiting', 'sq-ft': 250, 'price': 75}, {'room-number': 102, 'use': 'office', 'sq-ft': 125, 'price': 150}, {'room-number': 103, 'use': 'examination', 'sq-ft': 125, 'price': '250€'}, {'room-number': 104, 'use': 'office', 'sq-ft': 150, 'price': 100}], 'parking': {'location': 'premium', 'style': 'covered', 'price': 750}}}]\n"
     ]
    }
   ],
   "source": [
    "# Opening created and updated file(if changes were made in the db) \n",
    "# and prints all stored data.\n",
    "with open(\"medicaloffice.json\",\"r\",) as f:\n",
    "    jsondata=json.load(f)\n",
    "    print(jsondata)\n",
    "f.close()"
   ]
  },
  {
   "cell_type": "code",
   "execution_count": null,
   "metadata": {},
   "outputs": [],
   "source": []
  }
 ],
 "metadata": {
  "kernelspec": {
   "display_name": "Python 3",
   "language": "python",
   "name": "python3"
  },
  "language_info": {
   "codemirror_mode": {
    "name": "ipython",
    "version": 3
   },
   "file_extension": ".py",
   "mimetype": "text/x-python",
   "name": "python",
   "nbconvert_exporter": "python",
   "pygments_lexer": "ipython3",
   "version": "3.6.8"
  }
 },
 "nbformat": 4,
 "nbformat_minor": 2
}
